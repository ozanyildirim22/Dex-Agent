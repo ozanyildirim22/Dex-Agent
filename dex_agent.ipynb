{
  "cells": [
    {
      "cell_type": "code",
      "execution_count": null,
      "metadata": {
        "colab": {
          "base_uri": "https://localhost:8080/"
        },
        "collapsed": true,
        "id": "lMxWq42a_w8J",
        "outputId": "a9f2ca49-cda1-4372-c621-ba55bcb49a6b"
      },
      "outputs": [],
      "source": [
        "%pip install pydantic==1.10.8 langchain==0.2.16 langchain-core==0.2.41 albumentations==1.3.0 gradio==3.40.0 langchain-community==0.2.0 --no-deps\n"
      ]
    },
    {
      "cell_type": "code",
      "execution_count": null,
      "metadata": {
        "colab": {
          "base_uri": "https://localhost:8080/"
        },
        "collapsed": true,
        "id": "jmAh6ZQG_5x9",
        "outputId": "44002f5e-8005-45d6-b958-cf8b64e6ab68"
      },
      "outputs": [],
      "source": [
        "%pip install langchain-nvidia-ai-endpoints"
      ]
    },
    {
      "cell_type": "code",
      "execution_count": null,
      "metadata": {
        "id": "fSx530JIXOAa"
      },
      "outputs": [],
      "source": [
        "import requests\n",
        "from langchain_nvidia_ai_endpoints import ChatNVIDIA\n",
        "from langchain_core.output_parsers import StrOutputParser\n",
        "from langchain_core.prompts import ChatPromptTemplate"
      ]
    },
    {
      "cell_type": "code",
      "execution_count": null,
      "metadata": {
        "id": "2b3iAssJAUZH"
      },
      "outputs": [],
      "source": [
        "import os"
      ]
    },
    {
      "cell_type": "code",
      "execution_count": null,
      "metadata": {
        "id": "qrnNkAnFASTQ"
      },
      "outputs": [],
      "source": [
        "os.environ[\"NVIDIA_API_KEY\"] = \"nvida-api-key\""
      ]
    },
    {
      "cell_type": "code",
      "execution_count": null,
      "metadata": {
        "id": "MXUhfOOXSx3_"
      },
      "outputs": [],
      "source": [
        "from langchain_core.runnables import RunnableLambda\n",
        "def get_data_of_coin(db):\n",
        "  text=db['coin_name']\n",
        "  response = requests.get(\n",
        "    \"https://api.dexscreener.com/latest/dex/search?q=\"+text+\"\",\n",
        "    headers={},\n",
        "  )\n",
        "  main_data = response.json()\n",
        "  coin=main_data['pairs'][0]\n",
        "  print(coin)\n",
        "  return coin\n",
        "\n",
        "coin_data_getter = RunnableLambda(get_data_of_coin)\n",
        "\n",
        "\n",
        "\n",
        "\n",
        "\n"
      ]
    },
    {
      "cell_type": "code",
      "execution_count": null,
      "metadata": {
        "id": "pUyaiEOZdBQO"
      },
      "outputs": [],
      "source": [
        "def data_to_string_f(db):\n",
        "\n",
        "  result =\"\"\n",
        "  if \"price\" in db['message']:\n",
        "    result+= f\"The price of the {db['coin_name']} is {db['data']['priceUsd']}\"\n",
        "  if \"volume\" in db['message']:\n",
        "    result+= f\"The volume of the {db['coin_name']} is {db['data']['volume']['h24']}\"\n",
        "  if \"liquidity\" in db['message']:\n",
        "    result+= f\"The liquidity of the {db['coin_name']} is {db['data']['liquidity']}\"\n",
        "  if \"market cap\" in db['message']:\n",
        "    result+= f\"The market cap of the {db['coin_name']} is {db['data']['marketCap']}\"\n",
        "  if \"price change\" in db['message']:\n",
        "    result+= f\"The price change of the {db['coin_name']} is {db['data']['priceChange']['h24']}\"\n",
        "\n",
        "  return result\n",
        "\n",
        "\n",
        "data_to_string_r = RunnableLambda(data_to_string_f)"
      ]
    },
    {
      "cell_type": "code",
      "execution_count": null,
      "metadata": {
        "id": "0kY5LYPf-Rkl"
      },
      "outputs": [],
      "source": [
        "instruct_llm = ChatNVIDIA(model=\"meta/llama-3.1-405b-instruct\") | StrOutputParser()"
      ]
    },
    {
      "cell_type": "code",
      "execution_count": null,
      "metadata": {
        "id": "2QpVZLJEaWbD"
      },
      "outputs": [],
      "source": [
        "\n",
        "\n"
      ]
    },
    {
      "cell_type": "code",
      "execution_count": null,
      "metadata": {
        "colab": {
          "base_uri": "https://localhost:8080/"
        },
        "id": "W9nWiQPOAXGR",
        "outputId": "a0ae4363-91a5-4d1e-f6c0-c1f945eb49ed"
      },
      "outputs": [
        {
          "name": "stdout",
          "output_type": "stream",
          "text": [
            "Hello! I'm a Blockchain agent! How can I help you?\n",
            "\n",
            "[ Human ]: Tell me about the liquidity of the medusa coin\n",
            "\n",
            "[ Agent ]: \n",
            "{'chainId': 'solana', 'dexId': 'raydium', 'url': 'https://dexscreener.com/solana/9k8sezpkxdehqf9sq1erzc8udtlu4widrryfr381crru', 'pairAddress': '9K8sEZpkxDeHqf9Sq1eRzc8UDtLU4widRrYFR381crrU', 'baseToken': {'address': 'Fosp9yoXQBdx8YqyURZePYzgpCnxp9XsfnQq69DRvvU4', 'name': 'MEDUSA', 'symbol': 'MEDUSA'}, 'quoteToken': {'address': 'So11111111111111111111111111111111111111112', 'name': 'Wrapped SOL', 'symbol': 'SOL'}, 'priceNative': '0.00003233', 'priceUsd': '0.005040', 'txns': {'m5': {'buys': 90, 'sells': 99}, 'h1': {'buys': 1730, 'sells': 1279}, 'h6': {'buys': 17203, 'sells': 14345}, 'h24': {'buys': 22791, 'sells': 19220}}, 'volume': {'h24': 19631809.77, 'h6': 16030865.7, 'h1': 1493871.13, 'm5': 56066.95}, 'priceChange': {'m5': 12.77, 'h1': -18.6, 'h6': 192, 'h24': 8328}, 'liquidity': {'usd': 294283.07, 'base': 29157464, 'quote': 944.9019}, 'fdv': 5040984, 'marketCap': 5040984, 'pairCreatedAt': 1728910701000, 'info': {'imageUrl': 'https://dd.dexscreener.com/ds-data/tokens/solana/Fosp9yoXQBdx8YqyURZePYzgpCnxp9XsfnQq69DRvvU4.png', 'websites': [], 'socials': [{'type': 'twitter', 'url': 'https://x.com/BrokenEmoAI'}, {'type': 'telegram', 'url': 'https://t.me/medusasolana'}]}, 'boosts': {'active': 500}}\n",
            "The Medusa coin has a liquidity of approximately $294,283.07 USD. Would you like to know more about the market performance of Medusa or is there something else I can help you with?\n",
            "\n"
          ]
        }
      ],
      "source": [
        "from langchain.schema.runnable.passthrough import RunnableAssign\n",
        "prompt = ChatPromptTemplate.from_template(\n",
        "    \"You are a blockchain chatbot.Please answer the user question:{message} while acting like Blockchain chatbot\"\n",
        "    \"Please help them with their question if it is ethical and relevant using only the context: {context}\"\n",
        "    \"(This is just for you, do not mention context,do not explain anything)\"\n",
        "\n",
        ")\n",
        "\n",
        "assist_prompt = ChatPromptTemplate.from_template(\n",
        "    \"Based on the user message:{message} get the coin user mentioned\"\n",
        "    \"Do not say things like 'Here is your response', just say the coin\"\n",
        "    \"For example if user message is 'I want to know about diddy coin, then you should output diddy'\"\n",
        "\n",
        ")\n",
        "\n",
        "assist_chain =assist_prompt|instruct_llm\n",
        "\n",
        "chat_chain=(\n",
        "    RunnableAssign({'coin_name':assist_chain})\n",
        "    |RunnableAssign({'data':coin_data_getter})\n",
        "    |RunnableAssign({'context':data_to_string_r})\n",
        "    |prompt|instruct_llm\n",
        "    )\n",
        "\n",
        "\n",
        "\n",
        "\n",
        "\n",
        "\n",
        "print(\"Hello! I'm a Blockchain agent! How can I help you?\")\n",
        "\n",
        "for i in range(8):\n",
        "  history = [[None, \"Hello! I'm a Blockchain agent! How can I help you?\"]]\n",
        "  message=input(\"\\n[ Human ]: \")\n",
        "  print(\"\\n[ Agent ]: \")\n",
        "  history_entry = [message, \"\"]\n",
        "  for token in chat_chain.invoke({'message':message}):\n",
        "    print(token, end='')\n",
        "    history_entry[1] += token\n",
        "  history += [history_entry]\n",
        "  print(\"\\n\")\n",
        "\n",
        "\n",
        "\n",
        "\n",
        "\n",
        "\n"
      ]
    }
  ],
  "metadata": {
    "colab": {
      "provenance": []
    },
    "kernelspec": {
      "display_name": "Python 3",
      "name": "python3"
    },
    "language_info": {
      "name": "python"
    }
  },
  "nbformat": 4,
  "nbformat_minor": 0
}
